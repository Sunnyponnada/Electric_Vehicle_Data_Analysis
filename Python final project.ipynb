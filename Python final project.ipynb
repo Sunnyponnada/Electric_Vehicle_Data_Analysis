{
 "cells": [
  {
   "cell_type": "markdown",
   "id": "cbc65702-bfae-4fe8-af6c-54d85c9a1240",
   "metadata": {},
   "source": [
    "#PLAN stage\n",
    "#==>Prepare by reading in the data, viewing the data dictionary, and exploring the dataset to identify key variables for the stakeholder."
   ]
  },
  {
   "cell_type": "code",
   "execution_count": 26,
   "id": "152232b2-43aa-4439-9dcf-4ef7f2a522e2",
   "metadata": {},
   "outputs": [],
   "source": [
    "#IMPORTS AND DATA LOADING\n",
    "#Import packages for data manipulation.\n",
    "import pandas as pd\n",
    "import numpy as np\n",
    "import matplotlib.pyplot as plt\n",
    "import seaborn as sns\n",
    "from scipy.stats import ttest_ind\n",
    "from tabulate import tabulate"
   ]
  },
  {
   "cell_type": "code",
   "execution_count": null,
   "id": "c1e6defa-1b82-46be-a40a-2402e14bb800",
   "metadata": {},
   "outputs": [],
   "source": [
    "pip install openpyxl"
   ]
  },
  {
   "cell_type": "markdown",
   "id": "6c76f8f0-ef16-41fa-87df-ce3636b68194",
   "metadata": {},
   "source": [
    "Load the dataset into a dataframe. Creating a dataframe will help you conduct data manipulation, exploratory data analysis (EDA), and statistical activities."
   ]
  },
  {
   "cell_type": "code",
   "execution_count": 7,
   "id": "1e758798-7071-41af-93a8-65c594af7f60",
   "metadata": {},
   "outputs": [],
   "source": [
    "file_path = (r'C:\\Users\\Dell\\Desktop\\DATA SCIENCE COURSE (INTERNSHALA)\\python\\FEV-data-Excel.xlsx')"
   ]
  },
  {
   "cell_type": "code",
   "execution_count": 10,
   "id": "77c5cc30-3a61-4b24-b787-32775a9c6b3c",
   "metadata": {},
   "outputs": [],
   "source": [
    "df = pd.read_csv(r\"C:\\Users\\Dell\\Desktop\\DATA SCIENCE COURSE (INTERNSHALA)\\python\\FEV-data-Excel.xlsx - csv.csv\")"
   ]
  },
  {
   "cell_type": "code",
   "execution_count": 12,
   "id": "807dbe2f-2737-479b-845d-e4e186579960",
   "metadata": {},
   "outputs": [
    {
     "data": {
      "text/html": [
       "<div>\n",
       "<style scoped>\n",
       "    .dataframe tbody tr th:only-of-type {\n",
       "        vertical-align: middle;\n",
       "    }\n",
       "\n",
       "    .dataframe tbody tr th {\n",
       "        vertical-align: top;\n",
       "    }\n",
       "\n",
       "    .dataframe thead th {\n",
       "        text-align: right;\n",
       "    }\n",
       "</style>\n",
       "<table border=\"1\" class=\"dataframe\">\n",
       "  <thead>\n",
       "    <tr style=\"text-align: right;\">\n",
       "      <th></th>\n",
       "      <th>Car full name</th>\n",
       "      <th>Make</th>\n",
       "      <th>Model</th>\n",
       "      <th>Minimal price (gross) [PLN]</th>\n",
       "      <th>Engine power [KM]</th>\n",
       "      <th>Maximum torque [Nm]</th>\n",
       "      <th>Type of brakes</th>\n",
       "      <th>Drive type</th>\n",
       "      <th>Battery capacity [kWh]</th>\n",
       "      <th>Range (WLTP) [km]</th>\n",
       "      <th>...</th>\n",
       "      <th>Permissable gross weight [kg]</th>\n",
       "      <th>Maximum load capacity [kg]</th>\n",
       "      <th>Number of seats</th>\n",
       "      <th>Number of doors</th>\n",
       "      <th>Tire size [in]</th>\n",
       "      <th>Maximum speed [kph]</th>\n",
       "      <th>Boot capacity (VDA) [l]</th>\n",
       "      <th>Acceleration 0-100 kph [s]</th>\n",
       "      <th>Maximum DC charging power [kW]</th>\n",
       "      <th>mean - Energy consumption [kWh/100 km]</th>\n",
       "    </tr>\n",
       "  </thead>\n",
       "  <tbody>\n",
       "    <tr>\n",
       "      <th>0</th>\n",
       "      <td>Audi e-tron 55 quattro</td>\n",
       "      <td>Audi</td>\n",
       "      <td>e-tron 55 quattro</td>\n",
       "      <td>345700</td>\n",
       "      <td>360</td>\n",
       "      <td>664</td>\n",
       "      <td>disc (front + rear)</td>\n",
       "      <td>4WD</td>\n",
       "      <td>95.0</td>\n",
       "      <td>438</td>\n",
       "      <td>...</td>\n",
       "      <td>3130.0</td>\n",
       "      <td>640.0</td>\n",
       "      <td>5</td>\n",
       "      <td>5</td>\n",
       "      <td>19</td>\n",
       "      <td>200</td>\n",
       "      <td>660.0</td>\n",
       "      <td>5.7</td>\n",
       "      <td>150</td>\n",
       "      <td>24.45</td>\n",
       "    </tr>\n",
       "    <tr>\n",
       "      <th>1</th>\n",
       "      <td>Audi e-tron 50 quattro</td>\n",
       "      <td>Audi</td>\n",
       "      <td>e-tron 50 quattro</td>\n",
       "      <td>308400</td>\n",
       "      <td>313</td>\n",
       "      <td>540</td>\n",
       "      <td>disc (front + rear)</td>\n",
       "      <td>4WD</td>\n",
       "      <td>71.0</td>\n",
       "      <td>340</td>\n",
       "      <td>...</td>\n",
       "      <td>3040.0</td>\n",
       "      <td>670.0</td>\n",
       "      <td>5</td>\n",
       "      <td>5</td>\n",
       "      <td>19</td>\n",
       "      <td>190</td>\n",
       "      <td>660.0</td>\n",
       "      <td>6.8</td>\n",
       "      <td>150</td>\n",
       "      <td>23.80</td>\n",
       "    </tr>\n",
       "    <tr>\n",
       "      <th>2</th>\n",
       "      <td>Audi e-tron S quattro</td>\n",
       "      <td>Audi</td>\n",
       "      <td>e-tron S quattro</td>\n",
       "      <td>414900</td>\n",
       "      <td>503</td>\n",
       "      <td>973</td>\n",
       "      <td>disc (front + rear)</td>\n",
       "      <td>4WD</td>\n",
       "      <td>95.0</td>\n",
       "      <td>364</td>\n",
       "      <td>...</td>\n",
       "      <td>3130.0</td>\n",
       "      <td>565.0</td>\n",
       "      <td>5</td>\n",
       "      <td>5</td>\n",
       "      <td>20</td>\n",
       "      <td>210</td>\n",
       "      <td>660.0</td>\n",
       "      <td>4.5</td>\n",
       "      <td>150</td>\n",
       "      <td>27.55</td>\n",
       "    </tr>\n",
       "    <tr>\n",
       "      <th>3</th>\n",
       "      <td>Audi e-tron Sportback 50 quattro</td>\n",
       "      <td>Audi</td>\n",
       "      <td>e-tron Sportback 50 quattro</td>\n",
       "      <td>319700</td>\n",
       "      <td>313</td>\n",
       "      <td>540</td>\n",
       "      <td>disc (front + rear)</td>\n",
       "      <td>4WD</td>\n",
       "      <td>71.0</td>\n",
       "      <td>346</td>\n",
       "      <td>...</td>\n",
       "      <td>3040.0</td>\n",
       "      <td>640.0</td>\n",
       "      <td>5</td>\n",
       "      <td>5</td>\n",
       "      <td>19</td>\n",
       "      <td>190</td>\n",
       "      <td>615.0</td>\n",
       "      <td>6.8</td>\n",
       "      <td>150</td>\n",
       "      <td>23.30</td>\n",
       "    </tr>\n",
       "    <tr>\n",
       "      <th>4</th>\n",
       "      <td>Audi e-tron Sportback 55 quattro</td>\n",
       "      <td>Audi</td>\n",
       "      <td>e-tron Sportback 55 quattro</td>\n",
       "      <td>357000</td>\n",
       "      <td>360</td>\n",
       "      <td>664</td>\n",
       "      <td>disc (front + rear)</td>\n",
       "      <td>4WD</td>\n",
       "      <td>95.0</td>\n",
       "      <td>447</td>\n",
       "      <td>...</td>\n",
       "      <td>3130.0</td>\n",
       "      <td>670.0</td>\n",
       "      <td>5</td>\n",
       "      <td>5</td>\n",
       "      <td>19</td>\n",
       "      <td>200</td>\n",
       "      <td>615.0</td>\n",
       "      <td>5.7</td>\n",
       "      <td>150</td>\n",
       "      <td>23.85</td>\n",
       "    </tr>\n",
       "  </tbody>\n",
       "</table>\n",
       "<p>5 rows × 25 columns</p>\n",
       "</div>"
      ],
      "text/plain": [
       "                      Car full name  Make                        Model  \\\n",
       "0            Audi e-tron 55 quattro  Audi            e-tron 55 quattro   \n",
       "1            Audi e-tron 50 quattro  Audi            e-tron 50 quattro   \n",
       "2             Audi e-tron S quattro  Audi             e-tron S quattro   \n",
       "3  Audi e-tron Sportback 50 quattro  Audi  e-tron Sportback 50 quattro   \n",
       "4  Audi e-tron Sportback 55 quattro  Audi  e-tron Sportback 55 quattro   \n",
       "\n",
       "   Minimal price (gross) [PLN]  Engine power [KM]  Maximum torque [Nm]  \\\n",
       "0                       345700                360                  664   \n",
       "1                       308400                313                  540   \n",
       "2                       414900                503                  973   \n",
       "3                       319700                313                  540   \n",
       "4                       357000                360                  664   \n",
       "\n",
       "        Type of brakes Drive type  Battery capacity [kWh]  Range (WLTP) [km]  \\\n",
       "0  disc (front + rear)        4WD                    95.0                438   \n",
       "1  disc (front + rear)        4WD                    71.0                340   \n",
       "2  disc (front + rear)        4WD                    95.0                364   \n",
       "3  disc (front + rear)        4WD                    71.0                346   \n",
       "4  disc (front + rear)        4WD                    95.0                447   \n",
       "\n",
       "   ...  Permissable gross weight [kg]  Maximum load capacity [kg]  \\\n",
       "0  ...                         3130.0                       640.0   \n",
       "1  ...                         3040.0                       670.0   \n",
       "2  ...                         3130.0                       565.0   \n",
       "3  ...                         3040.0                       640.0   \n",
       "4  ...                         3130.0                       670.0   \n",
       "\n",
       "   Number of seats  Number of doors  Tire size [in]  Maximum speed [kph]  \\\n",
       "0                5                5              19                  200   \n",
       "1                5                5              19                  190   \n",
       "2                5                5              20                  210   \n",
       "3                5                5              19                  190   \n",
       "4                5                5              19                  200   \n",
       "\n",
       "   Boot capacity (VDA) [l]  Acceleration 0-100 kph [s]  \\\n",
       "0                    660.0                         5.7   \n",
       "1                    660.0                         6.8   \n",
       "2                    660.0                         4.5   \n",
       "3                    615.0                         6.8   \n",
       "4                    615.0                         5.7   \n",
       "\n",
       "   Maximum DC charging power [kW]  mean - Energy consumption [kWh/100 km]  \n",
       "0                             150                                   24.45  \n",
       "1                             150                                   23.80  \n",
       "2                             150                                   27.55  \n",
       "3                             150                                   23.30  \n",
       "4                             150                                   23.85  \n",
       "\n",
       "[5 rows x 25 columns]"
      ]
     },
     "execution_count": 12,
     "metadata": {},
     "output_type": "execute_result"
    }
   ],
   "source": [
    "#SUMMARY INFORMATION\n",
    "df.head()"
   ]
  },
  {
   "cell_type": "markdown",
   "id": "537eed3d-06e4-47fc-87f2-6b064b61b95f",
   "metadata": {},
   "source": [
    "#Task 1 – Filter and Group by Manufacturer\n",
    "\n",
    "Customer Criteria:\n",
    "Budget: 350,000 PLN (i.e. the minimal price is at or below this limit)\n",
    "Minimum Range: 400 km (WLTP range)\n",
    "\n",
    "After filtering for these criteria, we group by Make (manufacturer) and compute the average battery capacity for each."
   ]
  },
  {
   "cell_type": "code",
   "execution_count": 19,
   "id": "ce2f442c-2692-444d-8537-f6c131e795aa",
   "metadata": {},
   "outputs": [
    {
     "name": "stdout",
     "output_type": "stream",
     "text": [
      "Filtered EVs:\n",
      "+----+---------------+-----------------------------+-------------------------------+---------------------+--------------------------+\n",
      "|    | Make          | Model                       |   Minimal price (gross) [PLN] |   Range (WLTP) [km] |   Battery capacity [kWh] |\n",
      "+====+===============+=============================+===============================+=====================+==========================+\n",
      "|  0 | Audi          | e-tron 55 quattro           |                        345700 |                 438 |                       95 |\n",
      "+----+---------------+-----------------------------+-------------------------------+---------------------+--------------------------+\n",
      "|  8 | BMW           | iX3                         |                        282900 |                 460 |                       80 |\n",
      "+----+---------------+-----------------------------+-------------------------------+---------------------+--------------------------+\n",
      "| 15 | Hyundai       | Kona electric 64kWh         |                        178400 |                 449 |                       64 |\n",
      "+----+---------------+-----------------------------+-------------------------------+---------------------+--------------------------+\n",
      "| 18 | Kia           | e-Niro 64kWh                |                        167990 |                 455 |                       64 |\n",
      "+----+---------------+-----------------------------+-------------------------------+---------------------+--------------------------+\n",
      "| 20 | Kia           | e-Soul 64kWh                |                        160990 |                 452 |                       64 |\n",
      "+----+---------------+-----------------------------+-------------------------------+---------------------+--------------------------+\n",
      "| 22 | Mercedes-Benz | EQC                         |                        334700 |                 414 |                       80 |\n",
      "+----+---------------+-----------------------------+-------------------------------+---------------------+--------------------------+\n",
      "| 39 | Tesla         | Model 3 Standard Range Plus |                        195490 |                 430 |                       54 |\n",
      "+----+---------------+-----------------------------+-------------------------------+---------------------+--------------------------+\n",
      "| 40 | Tesla         | Model 3 Long Range          |                        235490 |                 580 |                       75 |\n",
      "+----+---------------+-----------------------------+-------------------------------+---------------------+--------------------------+\n",
      "| 41 | Tesla         | Model 3 Performance         |                        260490 |                 567 |                       75 |\n",
      "+----+---------------+-----------------------------+-------------------------------+---------------------+--------------------------+\n",
      "| 47 | Volkswagen    | ID.3 Pro Performance        |                        155890 |                 425 |                       58 |\n",
      "+----+---------------+-----------------------------+-------------------------------+---------------------+--------------------------+\n",
      "| 48 | Volkswagen    | ID.3 Pro S                  |                        179990 |                 549 |                       77 |\n",
      "+----+---------------+-----------------------------+-------------------------------+---------------------+--------------------------+\n",
      "| 49 | Volkswagen    | ID.4 1st                    |                        202390 |                 500 |                       77 |\n",
      "+----+---------------+-----------------------------+-------------------------------+---------------------+--------------------------+\n",
      "\n",
      "Average Battery Capacity by Manufacturer:\n",
      "+----+---------------+--------------------------+\n",
      "|    | Make          |   Battery capacity [kWh] |\n",
      "+====+===============+==========================+\n",
      "|  0 | Audi          |                  95      |\n",
      "+----+---------------+--------------------------+\n",
      "|  1 | BMW           |                  80      |\n",
      "+----+---------------+--------------------------+\n",
      "|  2 | Hyundai       |                  64      |\n",
      "+----+---------------+--------------------------+\n",
      "|  3 | Kia           |                  64      |\n",
      "+----+---------------+--------------------------+\n",
      "|  4 | Mercedes-Benz |                  80      |\n",
      "+----+---------------+--------------------------+\n",
      "|  5 | Tesla         |                  68      |\n",
      "+----+---------------+--------------------------+\n",
      "|  6 | Volkswagen    |                  70.6667 |\n",
      "+----+---------------+--------------------------+\n"
     ]
    }
   ],
   "source": [
    "# Task 1a: Filter EVs that are within the budget and meet minimum range requirements\n",
    "filtered_df = df[(df[\"Minimal price (gross) [PLN]\"] <= 350000) & (df[\"Range (WLTP) [km]\"] >= 400)]\n",
    "# Task 1b and 1c: Group by manufacturer and calculate the average battery capacity\n",
    "avg_battery_per_make = filtered_df.groupby(\"Make\")[\"Battery capacity [kWh]\"].mean().reset_index()\n",
    "# Display the filtered DataFrame\n",
    "print(\"Filtered EVs:\")\n",
    "print(tabulate(filtered_df[[\"Make\", \"Model\", \"Minimal price (gross) [PLN]\", \"Range (WLTP) [km]\", \"Battery capacity [kWh]\"]], headers='keys', tablefmt='grid'))\n",
    "print(\"\\nAverage Battery Capacity by Manufacturer:\")\n",
    "print(tabulate(avg_battery_per_make, headers='keys', tablefmt='grid'))"
   ]
  },
  {
   "cell_type": "code",
   "execution_count": null,
   "id": "a850efc4-1438-4d1b-913e-ecca60612e22",
   "metadata": {},
   "outputs": [],
   "source": []
  },
  {
   "cell_type": "markdown",
   "id": "28a77e77-d397-4515-87d7-b166c2296910",
   "metadata": {},
   "source": [
    "#Task 2 – Outlier Detection in Energy Consumption\n",
    "For energy consumption (in kWh per 100 km), we will employ the interquartile range (IQR) method. Outliers are defined as those values that fall below Q1 − 1.5×IQR or above Q3 + 1.5×IQR."
   ]
  },
  {
   "cell_type": "code",
   "execution_count": 28,
   "id": "8c9b8105-9dbd-401c-810a-215378738d7c",
   "metadata": {},
   "outputs": [
    {
     "name": "stdout",
     "output_type": "stream",
     "text": [
      "\n",
      "Outliers in Energy Consumption:\n",
      "+--------+---------+------------------------------------------+\n",
      "| Make   | Model   | mean - Energy consumption [kWh/100 km]   |\n",
      "+========+=========+==========================================+\n",
      "+--------+---------+------------------------------------------+\n"
     ]
    }
   ],
   "source": [
    "energy_col = \"mean - Energy consumption [kWh/100 km]\"\n",
    "Q1 = df[energy_col].quantile(0.25)\n",
    "Q3 = df[energy_col].quantile(0.75)\n",
    "IQR = Q3 - Q1\n",
    "lower_bound = Q1 - 1.5 * IQR\n",
    "upper_bound = Q3 + 1.5 * IQR\n",
    "outliers = df[(df[energy_col] < lower_bound) | (df[energy_col] > upper_bound)]\n",
    "\n",
    "print(\"\\nOutliers in Energy Consumption:\")\n",
    "print(tabulate(outliers[[\"Make\", \"Model\", energy_col]], headers='keys', tablefmt='grid'))"
   ]
  },
  {
   "cell_type": "markdown",
   "id": "43b0e5b6-d2f3-472c-acea-e8e21655c91c",
   "metadata": {},
   "source": [
    "No outliers were detected in the mean - Energy consumption [kWh/100 km] column using the IQR method. This indicates that the energy consumption values across the dataset are consistent without any extreme deviations."
   ]
  },
  {
   "cell_type": "code",
   "execution_count": null,
   "id": "9f138eb6-b4f2-4e1d-aa86-8f4d40d8f831",
   "metadata": {},
   "outputs": [],
   "source": []
  },
  {
   "cell_type": "markdown",
   "id": "a81c480f-aa6e-4feb-919a-35ae712ab021",
   "metadata": {},
   "source": [
    "Task 3- Relationship between Battery Capacity and Range\n",
    "\n",
    "We visualize the relationship between the battery capacity and the WLTP range. A scatter plot helps us understand whether higher battery capacity generally translates into a longer range. Additionally, we can compute the correlation coefficient."
   ]
  },
  {
   "cell_type": "code",
   "execution_count": 32,
   "id": "0d02b755-7b4b-481c-a5a2-69ed435da2bb",
   "metadata": {},
   "outputs": [
    {
     "data": {
      "image/png": "[encoded data removed]",
      "text/plain": [
       "<Figure size 1000x600 with 1 Axes>"
      ]
     },
     "metadata": {},
     "output_type": "display_data"
    },
    {
     "name": "stdout",
     "output_type": "stream",
     "text": [
      "\n",
      "Pearson Correlation between Battery Capacity and Range: 0.81\n"
     ]
    }
   ],
   "source": [
    "# Extract variables for plotting\n",
    "battery_capacity = df[\"Battery capacity [kWh]\"]\n",
    "range_wltp = df[\"Range (WLTP) [km]\"]\n",
    "\n",
    "# Scatter plot: Battery capacity vs. Range\n",
    "plt.figure(figsize=(10, 6))\n",
    "sns.scatterplot(data=df, x=\"Battery capacity [kWh]\", y=\"Range (WLTP) [km]\", hue=\"Make\", palette=\"Set2\")\n",
    "plt.title(\"Relationship between Battery Capacity and WLTP Range\")\n",
    "plt.xlabel(\"Battery capacity [kWh]\")\n",
    "plt.ylabel(\"Range (WLTP) [km]\")\n",
    "plt.legend(title=\"Manufacturer\", bbox_to_anchor=(1.05, 1), loc='upper left')\n",
    "plt.grid(True)\n",
    "plt.show()\n",
    "\n",
    "# Calculate the Pearson correlation coefficient\n",
    "correlation = np.corrcoef(battery_capacity, range_wltp)[0, 1]\n",
    "print(\"\\nPearson Correlation between Battery Capacity and Range:\", round(correlation, 2))\n"
   ]
  },
  {
   "cell_type": "markdown",
   "id": "b07edf2e-984d-4cb9-afcb-b4260e373d22",
   "metadata": {},
   "source": [
    "#In the scatter plot, each point represents an EV with its battery capacity on the x-axis and its WLTP range on the y-axis.\n",
    "\n",
    "#The computed Pearson correlation coefficient quantifies the linear relationship between the two. A strong positive correlation would suggest that EVs with larger batteries generally offer a longer range."
   ]
  },
  {
   "cell_type": "code",
   "execution_count": null,
   "id": "af4637d8-295e-47a4-94a4-a697a30e384f",
   "metadata": {},
   "outputs": [],
   "source": []
  },
  {
   "cell_type": "markdown",
   "id": "1b2858a9-a9c2-480a-aff7-a8a5ce1ec6ec",
   "metadata": {},
   "source": [
    "#Task 4 – EV Recommendation Class\n",
    "\n",
    "We now create an EVRecommender class. This class takes in the EV dataset and provides a method recommend() that accepts a budget, a minimum desired range, and a minimum battery capacity. The recommendation strategy involves:\n",
    "\n",
    "1.Filtering the dataset based on the user’s criteria.\n",
    "\n",
    "2.If more than three EVs match, a composite score is calculated as score = (Range + Battery capacity) / Price which approximates value (using both driving range and battery capacity in the numerator and the price in the denominator).\n",
    "\n",
    "3.The EVs are then sorted by score in descending order and the top three recommendations are returned."
   ]
  },
  {
   "cell_type": "code",
   "execution_count": 50,
   "id": "4166aa0d-1ae8-47fa-8aca-99deacb1216a",
   "metadata": {},
   "outputs": [
    {
     "name": "stdout",
     "output_type": "stream",
     "text": [
      "\n",
      "Top 3 EV recommendations for the given criteria:\n",
      "+------------+---------------------+-------------------------------+---------------------+--------------------------+------------+\n",
      "| Make       | Model               |   Minimal price (gross) [PLN] |   Range (WLTP) [km] |   Battery capacity [kWh] |      Score |\n",
      "|------------+---------------------+-------------------------------+---------------------+--------------------------+------------|\n",
      "| Tesla      | Model 3 Long Range  |                        235490 |                 580 |                       75 | 0.00278143 |\n",
      "| Tesla      | Model 3 Performance |                        260490 |                 567 |                       75 | 0.00246459 |\n",
      "| Volkswagen | ID.3 Pro S          |                        179990 |                 549 |                       77 | 0.00347797 |\n",
      "+------------+---------------------+-------------------------------+---------------------+--------------------------+------------+\n"
     ]
    }
   ],
   "source": [
    "class EVRecommender:\n",
    "    def __init__(self, data):\n",
    "        self.data = data.copy()\n",
    "    \n",
    "    def recommend(self, max_budget, min_range, min_battery):\n",
    "        \"\"\"\n",
    "        Recommend top 3 EVs based on user's budget, desired minimum range, and minimum battery capacity.\n",
    "        A composite score = (Range + Battery Capacity) / Price is used to rank the EVs.\n",
    "        \"\"\"\n",
    "        # Filter EVs that meet user criteria:\n",
    "        filtered = self.data[\n",
    "            (self.data[\"Minimal price (gross) [PLN]\"] <= max_budget) &\n",
    "            (self.data[\"Range (WLTP) [km]\"] >= min_range) &\n",
    "            (self.data[\"Battery capacity [kWh]\"] >= min_battery)\n",
    "        ].copy()\n",
    "        \n",
    "        if filtered.empty:\n",
    "            print(\"No EVs match the given criteria.\")\n",
    "            return pd.DataFrame()\n",
    "        \n",
    "        # Calculate composite score (modify weights if desired)\n",
    "        filtered[\"Score\"] = (filtered[\"Range (WLTP) [km]\"] + filtered[\"Battery capacity [kWh]\"]) / filtered[\"Minimal price (gross) [PLN]\"]\n",
    "        \n",
    "        # Sort EVs by descending score and take the top three.\n",
    "        recommended = filtered.sort_values(by=['Range (WLTP) [km]', 'Battery capacity [kWh]'], ascending=[False, False]).head(3)\n",
    "        \n",
    "        # Return subset of relevant columns for recommendation\n",
    "        return recommended[[\"Make\", \"Model\",\n",
    "                            \"Minimal price (gross) [PLN]\", \"Range (WLTP) [km]\",\n",
    "                            \"Battery capacity [kWh]\", \"Score\"]]\n",
    "\n",
    "# Create an instance of the recommender\n",
    "recommender = EVRecommender(df)\n",
    "\n",
    "# Test the recommendation system with sample criteria:\n",
    "# Budget: 350,000 PLN, Minimum Range: 400 km, Minimum Battery Capacity: 50 kWh\n",
    "recommendations = recommender.recommend(max_budget=350000, min_range=400, min_battery=50)\n",
    "\n",
    "# Print the output neatly in table format using tabulate\n",
    "if not recommendations.empty:\n",
    "    print(\"\\nTop 3 EV recommendations for the given criteria:\")\n",
    "    print(tabulate(recommendations, headers='keys', tablefmt='psql', showindex=False))\n",
    "else:\n",
    "    print(\"No EV recommendations match the given criteria.\")\n"
   ]
  },
  {
   "cell_type": "code",
   "execution_count": 35,
   "id": "3af3a807-554c-43cc-bac1-1316eb3b46c1",
   "metadata": {},
   "outputs": [
    {
     "name": "stdout",
     "output_type": "stream",
     "text": [
      "\n",
      "EV Recommendations:\n",
      "+----+------------+---------------------+-------------------------------+---------------------+--------------------------+\n",
      "|    | Make       | Model               |   Minimal price (gross) [PLN] |   Range (WLTP) [km] |   Battery capacity [kWh] |\n",
      "+====+============+=====================+===============================+=====================+==========================+\n",
      "| 40 | Tesla      | Model 3 Long Range  |                        235490 |                 580 |                       75 |\n",
      "+----+------------+---------------------+-------------------------------+---------------------+--------------------------+\n",
      "| 41 | Tesla      | Model 3 Performance |                        260490 |                 567 |                       75 |\n",
      "+----+------------+---------------------+-------------------------------+---------------------+--------------------------+\n",
      "| 48 | Volkswagen | ID.3 Pro S          |                        179990 |                 549 |                       77 |\n",
      "+----+------------+---------------------+-------------------------------+---------------------+--------------------------+\n"
     ]
    }
   ],
   "source": [
    "class EVRecommendation:\n",
    "    def __init__(self, dataset):\n",
    "        self.dataset = dataset\n",
    "\n",
    "    def recommend(self, budget, min_range, min_battery_capacity):\n",
    "        filtered = self.dataset[(self.dataset['Minimal price (gross) [PLN]'] <= budget) &\n",
    "                                (self.dataset['Range (WLTP) [km]'] >= min_range) &\n",
    "                                (self.dataset['Battery capacity [kWh]'] >= min_battery_capacity)]\n",
    "        top_three = filtered.sort_values(by=['Range (WLTP) [km]', 'Battery capacity [kWh]'], ascending=[False, False]).head(3)\n",
    "        return top_three[['Make', 'Model', 'Minimal price (gross) [PLN]', 'Range (WLTP) [km]', 'Battery capacity [kWh]']]\n",
    "\n",
    "# Instantiate the class\n",
    "ev_recommender = EVRecommendation(df)\n",
    "recommendations = ev_recommender.recommend(budget=350000, min_range=400, min_battery_capacity=50)\n",
    "print(\"\\nEV Recommendations:\")\n",
    "print(tabulate(recommendations, headers='keys', tablefmt='grid'))"
   ]
  },
  {
   "cell_type": "code",
   "execution_count": 37,
   "id": "a509985d-119e-495f-8235-e01e60cab4f9",
   "metadata": {},
   "outputs": [
    {
     "name": "stdout",
     "output_type": "stream",
     "text": [
      "\n",
      "EV Recommendations:\n",
      "+----+---------------------------------+------------+----------------------+-------------------------------+---------------------+--------------------------+------------+\n",
      "|    | Car full name                   | Make       | Model                |   Minimal price (gross) [PLN] |   Range (WLTP) [km] |   Battery capacity [kWh] |      Score |\n",
      "+====+=================================+============+======================+===============================+=====================+==========================+============+\n",
      "| 48 | Volkswagen ID.3 Pro S           | Volkswagen | ID.3 Pro S           |                        179990 |                 549 |                       77 | 0.00347797 |\n",
      "+----+---------------------------------+------------+----------------------+-------------------------------+---------------------+--------------------------+------------+\n",
      "| 20 | Kia e-Soul 64kWh                | Kia        | e-Soul 64kWh         |                        160990 |                 452 |                       64 | 0.00320517 |\n",
      "+----+---------------------------------+------------+----------------------+-------------------------------+---------------------+--------------------------+------------+\n",
      "| 47 | Volkswagen ID.3 Pro Performance | Volkswagen | ID.3 Pro Performance |                        155890 |                 425 |                       58 | 0.00309834 |\n",
      "+----+---------------------------------+------------+----------------------+-------------------------------+---------------------+--------------------------+------------+\n"
     ]
    }
   ],
   "source": [
    "class EVRecommendation:\n",
    "    def __init__(self, dataset):\n",
    "        self.dataset = dataset.copy()\n",
    "\n",
    "    def recommend(self, max_budget, min_range, min_battery):\n",
    "        filtered = self.dataset[(self.dataset[\"Minimal price (gross) [PLN]\"] <= max_budget) &\n",
    "                                (self.dataset[\"Range (WLTP) [km]\"] >= min_range) &\n",
    "                                (self.dataset[\"Battery capacity [kWh]\"] >= min_battery)].copy()\n",
    "        \n",
    "        if filtered.empty:\n",
    "            print(\"No EVs match the given criteria.\")\n",
    "            return pd.DataFrame()\n",
    "        \n",
    "        filtered[\"Score\"] = (filtered[\"Range (WLTP) [km]\"] + filtered[\"Battery capacity [kWh]\"]) / filtered[\"Minimal price (gross) [PLN]\"]\n",
    "        recommended = filtered.sort_values(by=\"Score\", ascending=False).head(3)\n",
    "        return recommended[[\"Car full name\", \"Make\", \"Model\", \"Minimal price (gross) [PLN]\", \"Range (WLTP) [km]\", \"Battery capacity [kWh]\", \"Score\"]]\n",
    "\n",
    "# Instantiate the class\n",
    "ev_recommender = EVRecommendation(df)\n",
    "recommendations = ev_recommender.recommend(max_budget=350000, min_range=400, min_battery=50)\n",
    "print(\"\\nEV Recommendations:\")\n",
    "print(tabulate(recommendations, headers='keys', tablefmt='grid'))"
   ]
  },
  {
   "cell_type": "code",
   "execution_count": null,
   "id": "949c919c-82bf-4fab-aff9-0fb305159287",
   "metadata": {},
   "outputs": [],
   "source": []
  },
  {
   "cell_type": "markdown",
   "id": "69a7a5c9-d110-47df-8b7e-1c347a4a8edf",
   "metadata": {},
   "source": [
    "#Task 5 – Hypothesis Testing:\n",
    "\n",
    "Objective: Test whether there is a significant difference in the average engine power (in KM) between vehicles by Tesla and Audi.\n",
    "\n",
    "Steps:\n",
    "\n",
    "1.Filter the DataFrame for Tesla and Audi.\n",
    "\n",
    "2.Drop missing values in the Engine power [KM] column.\n",
    "\n",
    "3.Use the two-sample t-test (ttest_ind from SciPy) to check if the means differ significantly.\n",
    "\n",
    "4.Interpret the t-statistic and p-value (with a significance level of 0.05)."
   ]
  },
  {
   "cell_type": "code",
   "execution_count": 51,
   "id": "6b6acd62-a0b5-42e5-8b97-f20f0aced1e2",
   "metadata": {},
   "outputs": [
    {
     "name": "stdout",
     "output_type": "stream",
     "text": [
      "\n",
      "Hypothesis Testing for Differences in Engine Power between Tesla and Audi\n",
      "T-statistic: 1.79\n",
      "P-value: 0.1068\n",
      "There is no statistically significant difference in the average engine power between Tesla and Audi.\n"
     ]
    }
   ],
   "source": [
    "# Filter EVs for Tesla and Audi\n",
    "tesla_cars = df[df[\"Make\"] == \"Tesla\"][\"Engine power [KM]\"].dropna()\n",
    "audi_cars  = df[df[\"Make\"] == \"Audi\"][\"Engine power [KM]\"].dropna()\n",
    "\n",
    "# Perform the two-sample t-test (Welch’s t-test, with equal_var=False)\n",
    "t_stat, p_value = ttest_ind(tesla_cars, audi_cars, equal_var=False)\n",
    "\n",
    "print(\"\\nHypothesis Testing for Differences in Engine Power between Tesla and Audi\")\n",
    "print(\"T-statistic:\", round(t_stat, 2))\n",
    "print(\"P-value:\", round(p_value, 4))\n",
    "\n",
    "# Interpretation based on a significance level of 0.05\n",
    "if p_value < 0.05:\n",
    "    print(\"There is a statistically significant difference in the average engine power between Tesla and Audi.\")\n",
    "else:\n",
    "    print(\"There is no statistically significant difference in the average engine power between Tesla and Audi.\")\n"
   ]
  },
  {
   "cell_type": "code",
   "execution_count": 52,
   "id": "a0b52eef-adcf-4a70-8a61-585b5e085cba",
   "metadata": {},
   "outputs": [
    {
     "name": "stdout",
     "output_type": "stream",
     "text": [
      "\n",
      "Hypothesis Testing Results:\n",
      "T-Statistic: 1.7024444538261416\n",
      "P-Value: 0.11672692675082785\n",
      "There is no significant difference in engine power between Tesla and Audi.\n"
     ]
    }
   ],
   "source": [
    "tesla_power = df[df[\"Make\"] == \"Tesla\"][\"Engine power [KM]\"].dropna()\n",
    "audi_power = df[df[\"Make\"] == \"Audi\"][\"Engine power [KM]\"].dropna()\n",
    "t_stat, p_value = ttest_ind(tesla_power, audi_power)\n",
    "\n",
    "print(\"\\nHypothesis Testing Results:\")\n",
    "print(f\"T-Statistic: {t_stat}\")\n",
    "print(f\"P-Value: {p_value}\")\n",
    "if p_value < 0.05:\n",
    "    print(\"There is a significant difference in engine power between Tesla and Audi.\")\n",
    "else:\n",
    "    print(\"There is no significant difference in engine power between Tesla and Audi.\")"
   ]
  },
  {
   "cell_type": "code",
   "execution_count": null,
   "id": "487e636c-5113-4837-882c-b62736c411a2",
   "metadata": {},
   "outputs": [],
   "source": []
  },
  {
   "cell_type": "code",
   "execution_count": null,
   "id": "2c53440a-76ef-42a0-9984-fb5a3737f384",
   "metadata": {},
   "outputs": [],
   "source": []
  },
  {
   "cell_type": "code",
   "execution_count": null,
   "id": "74c7d658-4bb9-4394-bb81-f4fd269f5684",
   "metadata": {},
   "outputs": [],
   "source": []
  }
 ],
 "metadata": {
  "kernelspec": {
   "display_name": "Python 3 (ipykernel)",
   "language": "python",
   "name": "python3"
  },
  "language_info": {
   "codemirror_mode": {
    "name": "ipython",
    "version": 3
   },
   "file_extension": ".py",
   "mimetype": "text/x-python",
   "name": "python",
   "nbconvert_exporter": "python",
   "pygments_lexer": "ipython3",
   "version": "3.12.0"
  }
 },
 "nbformat": 4,
 "nbformat_minor": 5
}
